{
 "cells": [
  {
   "cell_type": "markdown",
   "id": "8416ea02",
   "metadata": {},
   "source": [
    "Data parallelism is a way to process multiple data batches across multiple devices simultaneously to achieve better performance. This code utilises parallelism in pytorch implicitely through the basic tensor operations it uses such as torch.stack and torch.cat however for this simplistic Cantor Set, there is no code required to directly exploit the parallelism capabilities of pytorch in order to generate the desired fractal."
   ]
  },
  {
   "cell_type": "code",
   "execution_count": 4,
   "id": "07cec44a",
   "metadata": {
    "scrolled": true
   },
   "outputs": [
    {
     "data": {
      "image/png": "[encoded data removed]",
      "text/plain": [
       "<Figure size 720x360 with 1 Axes>"
      ]
     },
     "metadata": {
      "needs_background": "light"
     },
     "output_type": "display_data"
    }
   ],
   "source": [
    "import torch\n",
    "import matplotlib.pyplot as plt\n",
    "\n",
    "device = torch.device('cuda' if torch.cuda.is_available() else 'cpu')\n",
    "\n",
    "def cantor_set(n_iterations):\n",
    "\n",
    "    # A segment is represented by two numbers: the start and the end.\n",
    "    segments = torch.tensor([[0.0, 1.0]])\n",
    "\n",
    "    # This list will hold the segments for all iterations.\n",
    "    all_segments = [segments]\n",
    "\n",
    "    for _ in range(n_iterations):\n",
    "        \n",
    "        # Calculate the length of each segment by subtracting the starting point from the end point.\n",
    "        lengths = segments[:, 1] - segments[:, 0]\n",
    "        \n",
    "        # Calculate the left third of each segment. (ends where the middle third begins.)\n",
    "        left_segments = torch.stack([segments[:, 0], segments[:, 0] + lengths / 3], dim=1)\n",
    "\n",
    "        # Calculate the right third of each segment. (starts where the middle third ends.)\n",
    "        right_segments = torch.stack([segments[:, 1] - lengths / 3, segments[:, 1]], dim=1)\n",
    "        \n",
    "        # Combine the left and right segments to get the new set of segments for the next iteration.\n",
    "        segments = torch.cat([left_segments, right_segments], dim=0)\n",
    "        \n",
    "        # Append the segments of this iteration to the list.\n",
    "        all_segments.append(segments)\n",
    "\n",
    "    return all_segments\n",
    "\n",
    "def plot_cantor_set(all_segments):\n",
    "    fig, ax = plt.subplots(figsize=(10, 5))\n",
    "    \n",
    "    for i, segments in enumerate(all_segments):\n",
    "\n",
    "        for segment in segments:\n",
    "            ax.plot(segment, [i+1, i+1], color='b')  # i+1 is the y-level, so iterations don't overlap.\n",
    "\n",
    "        # Ensure the y-limits cover all iterations.\n",
    "        ax.set_ylim(0.5, len(all_segments) + 0.5)\n",
    "    plt.show()\n",
    "\n",
    "all_segments = cantor_set(4)\n",
    "\n",
    "plot_cantor_set(all_segments)\n"
   ]
  },
  {
   "cell_type": "code",
   "execution_count": null,
   "id": "354d01e7",
   "metadata": {},
   "outputs": [],
   "source": []
  }
 ],
 "metadata": {
  "kernelspec": {
   "display_name": "Python 3 (ipykernel)",
   "language": "python",
   "name": "python3"
  },
  "language_info": {
   "codemirror_mode": {
    "name": "ipython",
    "version": 3
   },
   "file_extension": ".py",
   "mimetype": "text/x-python",
   "name": "python",
   "nbconvert_exporter": "python",
   "pygments_lexer": "ipython3",
   "version": "3.9.11"
  }
 },
 "nbformat": 4,
 "nbformat_minor": 5
}
